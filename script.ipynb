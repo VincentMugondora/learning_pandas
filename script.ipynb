{
 "cells": [
  {
   "cell_type": "markdown",
   "id": "5d163f1e",
   "metadata": {},
   "source": [
    "# Writing Code"
   ]
  },
  {
   "cell_type": "markdown",
   "id": "f3435afb",
   "metadata": {
    "vscode": {
     "languageId": "plaintext"
    }
   },
   "source": [
    "## vincent"
   ]
  },
  {
   "cell_type": "code",
   "execution_count": null,
   "id": "2ba2d92d",
   "metadata": {},
   "outputs": [
    {
     "ename": "",
     "evalue": "",
     "output_type": "error",
     "traceback": [
      "\u001b[1;31mRunning cells with 'venv (Python 3.13.3)' requires the ipykernel package.\n",
      "\u001b[1;31mInstall 'ipykernel' into the Python environment. \n",
      "\u001b[1;31mCommand: 'c:/Users/DELL/Desktop/pandas/venv/Scripts/python.exe -m pip install ipykernel -U --force-reinstall'"
     ]
    }
   ],
   "source": [
    "import pandas as pd"
   ]
  },
  {
   "cell_type": "code",
   "execution_count": null,
   "id": "229419b1",
   "metadata": {},
   "outputs": [],
   "source": [
    "fi = pd.Series([1, 2, 3, 4, 5])\n",
    "print(fi)"
   ]
  }
 ],
 "metadata": {
  "kernelspec": {
   "display_name": "venv",
   "language": "python",
   "name": "python3"
  },
  "language_info": {
   "name": "python",
   "version": "3.13.3"
  }
 },
 "nbformat": 4,
 "nbformat_minor": 5
}
